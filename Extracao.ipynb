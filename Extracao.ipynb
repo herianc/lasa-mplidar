{
 "cells": [
  {
   "cell_type": "markdown",
   "id": "aaad58d9-b2b0-44db-816b-19ef8d9f6584",
   "metadata": {},
   "source": [
    "Caso esteja utilizando esse notebook pela primeira vez, será necessário baixar alguns pacotes:\n",
    "\n",
    "- Pandas: `pip install pandas`\n",
    "- Rich: `pip install rich`\n",
    "- Xarray: `pip install xarray`\n",
    "- NetCDF4: `pip install netCDF4`\n",
    "\n",
    "**Também é necessário que o arquivo `mplsscripts.py` esteja na mesma pasta que este notebook**"
   ]
  },
  {
   "cell_type": "code",
   "execution_count": 1,
   "id": "df419d5c-5659-42cf-9f44-83f768284f39",
   "metadata": {},
   "outputs": [],
   "source": [
    "import pandas as pd\n",
    "import xarray as xr \n",
    "import numpy as np\n",
    "from mplscripts import extract_info_mpl \n",
    "import os\n",
    "import warnings \n",
    "\n",
    "# Necessário para desconiderar alguns avisos erro de divisão por zero nos calculos dos dados agregados\n",
    "warnings.filterwarnings('ignore') "
   ]
  },
  {
   "cell_type": "markdown",
   "id": "5f3c2f2d-8973-4307-a399-b6e5db90d1ff",
   "metadata": {},
   "source": [
    "# Documentação do módulo mplscripts \n",
    "\n",
    "[Github](https://github.com/herianc/lasa-mplidar?tab=readme-ov-file#documenta%C3%A7%C3%A3o)\n",
    "\n",
    "Este script extrai alguns dados agregados dos arquivos NETCDF do Mini MPL. Primeiramente é necessário escolher o caminho da pasta onde os arquivos estão.\n",
    "Tendo em vista a grande quantidade de dados que o LiDAR gera, é recomendado fazer a extração dos dados de mês em mês."
   ]
  },
  {
   "cell_type": "code",
   "execution_count": 2,
   "id": "6f7dd5df-e605-4209-a8db-139f582743c7",
   "metadata": {},
   "outputs": [],
   "source": [
    "# Caminho onde os arquivos .nc estão\n",
    "path = './2023/2023-01'"
   ]
  },
  {
   "cell_type": "code",
   "execution_count": 3,
   "id": "1ee13d36-26bb-4e21-8a4f-81ec1d746c56",
   "metadata": {},
   "outputs": [
    {
     "data": {
      "text/plain": [
       "1569"
      ]
     },
     "execution_count": 3,
     "metadata": {},
     "output_type": "execute_result"
    }
   ],
   "source": [
    "# Quantidade de arquivos na pasta\n",
    "len(os.listdir(path))"
   ]
  },
  {
   "cell_type": "code",
   "execution_count": 4,
   "id": "c9ee3882-b682-4824-87fc-62a618e3a3c2",
   "metadata": {},
   "outputs": [
    {
     "data": {
      "application/vnd.jupyter.widget-view+json": {
       "model_id": "ec12ce7ee40b421082e8a252438796d1",
       "version_major": 2,
       "version_minor": 0
      },
      "text/plain": [
       "Output()"
      ]
     },
     "metadata": {},
     "output_type": "display_data"
    },
    {
     "data": {
      "text/html": [
       "<pre style=\"white-space:pre;overflow-x:auto;line-height:normal;font-family:Menlo,'DejaVu Sans Mono',consolas,'Courier New',monospace\">Extração encerrada\n",
       "</pre>\n"
      ],
      "text/plain": [
       "Extração encerrada\n"
      ]
     },
     "metadata": {},
     "output_type": "display_data"
    },
    {
     "data": {
      "text/html": [
       "<pre style=\"white-space:pre;overflow-x:auto;line-height:normal;font-family:Menlo,'DejaVu Sans Mono',consolas,'Courier New',monospace\"></pre>\n"
      ],
      "text/plain": []
     },
     "metadata": {},
     "output_type": "display_data"
    },
    {
     "data": {
      "text/html": [
       "<pre style=\"white-space:pre;overflow-x:auto;line-height:normal;font-family:Menlo,'DejaVu Sans Mono',consolas,'Courier New',monospace\">\n",
       "</pre>\n"
      ],
      "text/plain": [
       "\n"
      ]
     },
     "metadata": {},
     "output_type": "display_data"
    }
   ],
   "source": [
    "# Extraindo os dados agregados\n",
    "df = extract_info_mpl(path)"
   ]
  },
  {
   "cell_type": "code",
   "execution_count": 8,
   "id": "0b11fe39-8ca6-463d-8995-32c50152e075",
   "metadata": {},
   "outputs": [],
   "source": [
    "# Convertendo para csv\n",
    "df.to_csv('LIDAR-2023-03.csv', index=False)"
   ]
  },
  {
   "cell_type": "code",
   "execution_count": null,
   "id": "4a5155aa-18b4-4f80-9cbb-8625565fe1a9",
   "metadata": {},
   "outputs": [],
   "source": [
    "dataframes = []\n",
    "dir = './2023/'\n",
    "for pasta in os.listdir(dir):\n",
    "    if pasta.endswith('.py') or pasta == '2023-02-07':\n",
    "        continue\n",
    "    path = os.path.join(dir,pasta)\n",
    "    print(path)\n",
    "    df = extract_info_mpl(path)\n",
    "    dataframes.append(df)"
   ]
  },
  {
   "cell_type": "code",
   "execution_count": 5,
   "id": "d5e80be1-c98b-46ee-a866-def17070c3eb",
   "metadata": {},
   "outputs": [],
   "source": [
    "lidar2023 = pd.concat(dataframes)"
   ]
  },
  {
   "cell_type": "code",
   "execution_count": 7,
   "id": "8eced3b5-f31a-4f1e-9bbb-2c57d01a74b8",
   "metadata": {},
   "outputs": [],
   "source": [
    "lidar2023.to_csv('LIDAR-2023.csv', index=False)"
   ]
  },
  {
   "cell_type": "code",
   "execution_count": null,
   "id": "f8ea94be-9946-4163-a484-7ca036eb05cf",
   "metadata": {},
   "outputs": [],
   "source": []
  }
 ],
 "metadata": {
  "kernelspec": {
   "display_name": "Python 3 (ipykernel)",
   "language": "python",
   "name": "python3"
  },
  "language_info": {
   "codemirror_mode": {
    "name": "ipython",
    "version": 3
   },
   "file_extension": ".py",
   "mimetype": "text/x-python",
   "name": "python",
   "nbconvert_exporter": "python",
   "pygments_lexer": "ipython3",
   "version": "3.12.4"
  }
 },
 "nbformat": 4,
 "nbformat_minor": 5
}
